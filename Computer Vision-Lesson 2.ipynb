{
 "cells": [
  {
   "cell_type": "code",
   "execution_count": 4,
   "metadata": {
    "collapsed": true
   },
   "outputs": [],
   "source": [
    "import random\n",
    "import cv2"
   ]
  },
  {
   "cell_type": "code",
   "execution_count": 2,
   "metadata": {
    "collapsed": true
   },
   "outputs": [],
   "source": [
    "##Identifying the shape and width ,heigth of the image\n",
    "\n",
    "image = cv2.imread('C:\\\\Users\\\\venka\\\\Downloads\\\\standard_test_images\\\\lena_color_256.tif')\n",
    "w, h = image.shape[1], image.shape[0]\n",
    "\n",
    "\n",
    "def rand_pt(mult=1.):\n",
    "    return (random.randrange(int(w*mult)),\n",
    "            random.randrange(int(h*mult)))"
   ]
  },
  {
   "cell_type": "markdown",
   "metadata": {},
   "source": [
    "2) Draw a circle"
   ]
  },
  {
   "cell_type": "code",
   "execution_count": 17,
   "metadata": {},
   "outputs": [
    {
     "data": {
      "text/plain": [
       "array([[[125, 137, 226],\n",
       "        [130, 136, 223],\n",
       "        [118, 133, 226],\n",
       "        ..., \n",
       "        [127, 145, 230],\n",
       "        [122, 148, 232],\n",
       "        [100, 114, 210]],\n",
       "\n",
       "       [[125, 137, 226],\n",
       "        [130, 136, 223],\n",
       "        [118, 133, 226],\n",
       "        ..., \n",
       "        [127, 145, 230],\n",
       "        [122, 148, 232],\n",
       "        [100, 114, 210]],\n",
       "\n",
       "       [[124, 138, 226],\n",
       "        [121, 133, 223],\n",
       "        [117, 134, 226],\n",
       "        ..., \n",
       "        [118, 133, 222],\n",
       "        [108, 125, 217],\n",
       "        [ 90,  87, 182]],\n",
       "\n",
       "       ..., \n",
       "       [[ 61,  28,  90],\n",
       "        [ 61,  28,  91],\n",
       "        [ 63,  29,  97],\n",
       "        ..., \n",
       "        [ 71,  53, 140],\n",
       "        [ 73,  62, 158],\n",
       "        [ 74,  59, 161]],\n",
       "\n",
       "       [[ 60,  20,  85],\n",
       "        [ 59,  25,  91],\n",
       "        [ 62,  26,  94],\n",
       "        ..., \n",
       "        [ 82,  64, 153],\n",
       "        [ 81,  69, 172],\n",
       "        [ 78,  65, 170]],\n",
       "\n",
       "       [[ 57,  22,  82],\n",
       "        [ 62,  30,  94],\n",
       "        [ 61,  25,  95],\n",
       "        ..., \n",
       "        [ 84,  71, 167],\n",
       "        [ 78,  68, 178],\n",
       "        [ 81,  72, 183]]], dtype=uint8)"
      ]
     },
     "execution_count": 17,
     "metadata": {},
     "output_type": "execute_result"
    }
   ],
   "source": [
    "\n",
    "cv2.circle(image, rand_pt(), 40, (255, 0, 0))\n",
    "cv2.circle(image, rand_pt(), 5, (255, 0, 0), cv2.FILLED)\n",
    "cv2.circle(image, rand_pt(), 40, (255, 85, 85), 2)\n",
    "cv2.circle(image, rand_pt(), 40, (255, 170, 170), 2, cv2.LINE_AA)"
   ]
  },
  {
   "cell_type": "markdown",
   "metadata": {},
   "source": [
    "Draw a line\n",
    "\n",
    "The cv2.line function takes an image, start and end points, and color of the image (as in first call). Optionally you can pass line thickness and line type (again, to suppress aliasing).\n"
   ]
  },
  {
   "cell_type": "code",
   "execution_count": 18,
   "metadata": {},
   "outputs": [
    {
     "data": {
      "text/plain": [
       "array([[[125, 137, 226],\n",
       "        [130, 136, 223],\n",
       "        [118, 133, 226],\n",
       "        ..., \n",
       "        [127, 145, 230],\n",
       "        [122, 148, 232],\n",
       "        [100, 114, 210]],\n",
       "\n",
       "       [[125, 137, 226],\n",
       "        [130, 136, 223],\n",
       "        [118, 133, 226],\n",
       "        ..., \n",
       "        [127, 145, 230],\n",
       "        [122, 148, 232],\n",
       "        [100, 114, 210]],\n",
       "\n",
       "       [[124, 138, 226],\n",
       "        [121, 133, 223],\n",
       "        [117, 134, 226],\n",
       "        ..., \n",
       "        [118, 133, 222],\n",
       "        [108, 125, 217],\n",
       "        [ 90,  87, 182]],\n",
       "\n",
       "       ..., \n",
       "       [[ 61,  28,  90],\n",
       "        [ 61,  28,  91],\n",
       "        [ 63,  29,  97],\n",
       "        ..., \n",
       "        [ 71,  53, 140],\n",
       "        [ 73,  62, 158],\n",
       "        [ 74,  59, 161]],\n",
       "\n",
       "       [[ 60,  20,  85],\n",
       "        [ 59,  25,  91],\n",
       "        [ 62,  26,  94],\n",
       "        ..., \n",
       "        [ 82,  64, 153],\n",
       "        [ 81,  69, 172],\n",
       "        [ 78,  65, 170]],\n",
       "\n",
       "       [[ 57,  22,  82],\n",
       "        [ 62,  30,  94],\n",
       "        [ 61,  25,  95],\n",
       "        ..., \n",
       "        [ 84,  71, 167],\n",
       "        [ 78,  68, 178],\n",
       "        [ 81,  72, 183]]], dtype=uint8)"
      ]
     },
     "execution_count": 18,
     "metadata": {},
     "output_type": "execute_result"
    }
   ],
   "source": [
    "cv2.line(image, rand_pt(), rand_pt(), (0, 255, 0))\n",
    "cv2.line(image, rand_pt(), rand_pt(), (85, 255, 85), 3)\n",
    "cv2.line(image, rand_pt(), rand_pt(), (170, 255, 170), 3, cv2.LINE_AA)"
   ]
  },
  {
   "cell_type": "code",
   "execution_count": 9,
   "metadata": {},
   "outputs": [
    {
     "data": {
      "text/plain": [
       "array([[[125, 137, 226],\n",
       "        [130, 136, 223],\n",
       "        [118, 133, 226],\n",
       "        ..., \n",
       "        [127, 145, 230],\n",
       "        [122, 148, 232],\n",
       "        [100, 114, 210]],\n",
       "\n",
       "       [[125, 137, 226],\n",
       "        [130, 136, 223],\n",
       "        [118, 133, 226],\n",
       "        ..., \n",
       "        [127, 145, 230],\n",
       "        [122, 148, 232],\n",
       "        [100, 114, 210]],\n",
       "\n",
       "       [[124, 138, 226],\n",
       "        [121, 133, 223],\n",
       "        [117, 134, 226],\n",
       "        ..., \n",
       "        [118, 133, 222],\n",
       "        [108, 125, 217],\n",
       "        [ 90,  87, 182]],\n",
       "\n",
       "       ..., \n",
       "       [[ 61,  28,  90],\n",
       "        [ 61,  28,  91],\n",
       "        [ 63,  29,  97],\n",
       "        ..., \n",
       "        [ 71,  53, 140],\n",
       "        [ 73,  62, 158],\n",
       "        [ 74,  59, 161]],\n",
       "\n",
       "       [[ 60,  20,  85],\n",
       "        [ 59,  25,  91],\n",
       "        [ 62,  26,  94],\n",
       "        ..., \n",
       "        [ 82,  64, 153],\n",
       "        [ 81,  69, 172],\n",
       "        [ 78,  65, 170]],\n",
       "\n",
       "       [[ 57,  22,  82],\n",
       "        [ 62,  30,  94],\n",
       "        [ 61,  25,  95],\n",
       "        ..., \n",
       "        [ 84,  71, 167],\n",
       "        [ 78,  68, 178],\n",
       "        [ 81,  72, 183]]], dtype=uint8)"
      ]
     },
     "execution_count": 9,
     "metadata": {},
     "output_type": "execute_result"
    }
   ],
   "source": [
    "cv2.arrowedLine(image, rand_pt(), rand_pt(), (0, 0, 255), 3, cv2.LINE_AA)"
   ]
  },
  {
   "cell_type": "code",
   "execution_count": 11,
   "metadata": {},
   "outputs": [
    {
     "data": {
      "text/plain": [
       "array([[[125, 137, 226],\n",
       "        [130, 136, 223],\n",
       "        [118, 133, 226],\n",
       "        ..., \n",
       "        [127, 145, 230],\n",
       "        [122, 148, 232],\n",
       "        [100, 114, 210]],\n",
       "\n",
       "       [[125, 137, 226],\n",
       "        [130, 136, 223],\n",
       "        [118, 133, 226],\n",
       "        ..., \n",
       "        [127, 145, 230],\n",
       "        [122, 148, 232],\n",
       "        [100, 114, 210]],\n",
       "\n",
       "       [[124, 138, 226],\n",
       "        [121, 133, 223],\n",
       "        [117, 134, 226],\n",
       "        ..., \n",
       "        [118, 133, 222],\n",
       "        [108, 125, 217],\n",
       "        [ 90,  87, 182]],\n",
       "\n",
       "       ..., \n",
       "       [[ 61,  28,  90],\n",
       "        [ 61,  28,  91],\n",
       "        [ 63,  29,  97],\n",
       "        ..., \n",
       "        [ 71,  53, 140],\n",
       "        [ 73,  62, 158],\n",
       "        [ 74,  59, 161]],\n",
       "\n",
       "       [[ 60,  20,  85],\n",
       "        [ 59,  25,  91],\n",
       "        [ 62,  26,  94],\n",
       "        ..., \n",
       "        [ 82,  64, 153],\n",
       "        [ 81,  69, 172],\n",
       "        [ 78,  65, 170]],\n",
       "\n",
       "       [[ 57,  22,  82],\n",
       "        [ 62,  30,  94],\n",
       "        [ 61,  25,  95],\n",
       "        ..., \n",
       "        [ 84,  71, 167],\n",
       "        [ 78,  68, 178],\n",
       "        [ 81,  72, 183]]], dtype=uint8)"
      ]
     },
     "execution_count": 11,
     "metadata": {},
     "output_type": "execute_result"
    }
   ],
   "source": [
    "cv2.rectangle(image, rand_pt(), rand_pt(), (255, 255, 0), 3)"
   ]
  },
  {
   "cell_type": "code",
   "execution_count": 13,
   "metadata": {},
   "outputs": [
    {
     "data": {
      "text/plain": [
       "array([[[125, 137, 226],\n",
       "        [130, 136, 223],\n",
       "        [118, 133, 226],\n",
       "        ..., \n",
       "        [127, 145, 230],\n",
       "        [122, 148, 232],\n",
       "        [100, 114, 210]],\n",
       "\n",
       "       [[125, 137, 226],\n",
       "        [130, 136, 223],\n",
       "        [118, 133, 226],\n",
       "        ..., \n",
       "        [127, 145, 230],\n",
       "        [122, 148, 232],\n",
       "        [100, 114, 210]],\n",
       "\n",
       "       [[124, 138, 226],\n",
       "        [121, 133, 223],\n",
       "        [117, 134, 226],\n",
       "        ..., \n",
       "        [118, 133, 222],\n",
       "        [108, 125, 217],\n",
       "        [ 90,  87, 182]],\n",
       "\n",
       "       ..., \n",
       "       [[ 61,  28,  90],\n",
       "        [ 61,  28,  91],\n",
       "        [ 63,  29,  97],\n",
       "        ..., \n",
       "        [ 71,  53, 140],\n",
       "        [ 73,  62, 158],\n",
       "        [ 74,  59, 161]],\n",
       "\n",
       "       [[ 60,  20,  85],\n",
       "        [ 59,  25,  91],\n",
       "        [ 62,  26,  94],\n",
       "        ..., \n",
       "        [ 82,  64, 153],\n",
       "        [ 81,  69, 172],\n",
       "        [ 78,  65, 170]],\n",
       "\n",
       "       [[ 57,  22,  82],\n",
       "        [ 62,  30,  94],\n",
       "        [ 61,  25,  95],\n",
       "        ..., \n",
       "        [ 84,  71, 167],\n",
       "        [ 78,  68, 178],\n",
       "        [ 81,  72, 183]]], dtype=uint8)"
      ]
     },
     "execution_count": 13,
     "metadata": {},
     "output_type": "execute_result"
    }
   ],
   "source": [
    "cv2.ellipse(image, rand_pt(), rand_pt(0.3), random.randrange(360), 0, 360, (255, 255, 255), 3)"
   ]
  },
  {
   "cell_type": "code",
   "execution_count": null,
   "metadata": {
    "collapsed": true
   },
   "outputs": [],
   "source": []
  },
  {
   "cell_type": "code",
   "execution_count": 15,
   "metadata": {},
   "outputs": [
    {
     "data": {
      "text/plain": [
       "array([[[125, 137, 226],\n",
       "        [130, 136, 223],\n",
       "        [118, 133, 226],\n",
       "        ..., \n",
       "        [127, 145, 230],\n",
       "        [122, 148, 232],\n",
       "        [100, 114, 210]],\n",
       "\n",
       "       [[125, 137, 226],\n",
       "        [130, 136, 223],\n",
       "        [118, 133, 226],\n",
       "        ..., \n",
       "        [127, 145, 230],\n",
       "        [122, 148, 232],\n",
       "        [100, 114, 210]],\n",
       "\n",
       "       [[124, 138, 226],\n",
       "        [121, 133, 223],\n",
       "        [117, 134, 226],\n",
       "        ..., \n",
       "        [118, 133, 222],\n",
       "        [108, 125, 217],\n",
       "        [ 90,  87, 182]],\n",
       "\n",
       "       ..., \n",
       "       [[ 61,  28,  90],\n",
       "        [ 61,  28,  91],\n",
       "        [ 63,  29,  97],\n",
       "        ..., \n",
       "        [ 71,  53, 140],\n",
       "        [ 73,  62, 158],\n",
       "        [ 74,  59, 161]],\n",
       "\n",
       "       [[ 60,  20,  85],\n",
       "        [ 59,  25,  91],\n",
       "        [ 62,  26,  94],\n",
       "        ..., \n",
       "        [ 82,  64, 153],\n",
       "        [ 81,  69, 172],\n",
       "        [ 78,  65, 170]],\n",
       "\n",
       "       [[ 57,  22,  82],\n",
       "        [ 62,  30,  94],\n",
       "        [ 61,  25,  95],\n",
       "        ..., \n",
       "        [ 84,  71, 167],\n",
       "        [ 78,  68, 178],\n",
       "        [ 81,  72, 183]]], dtype=uint8)"
      ]
     },
     "execution_count": 15,
     "metadata": {},
     "output_type": "execute_result"
    }
   ],
   "source": [
    "cv2.putText(image, 'OpenCV', rand_pt(), cv2.FONT_HERSHEY_SIMPLEX, 1, (0, 0, 0), 3)"
   ]
  },
  {
   "cell_type": "code",
   "execution_count": 16,
   "metadata": {
    "collapsed": true
   },
   "outputs": [],
   "source": [
    "cv2.imshow('img',image)\n",
    "cv2.waitKey(0)\n",
    "cv2.destroyAllWindows()"
   ]
  },
  {
   "cell_type": "code",
   "execution_count": 23,
   "metadata": {
    "collapsed": true
   },
   "outputs": [],
   "source": [
    "import cv2\n",
    "\n",
    "capture = cv2.VideoCapture(0)"
   ]
  },
  {
   "cell_type": "code",
   "execution_count": 24,
   "metadata": {},
   "outputs": [
    {
     "name": "stdout",
     "output_type": "stream",
     "text": [
      "Pressed Esc\n"
     ]
    }
   ],
   "source": [
    "while True:\n",
    "    has_frame, frame = capture.read()\n",
    "    if not has_frame:\n",
    "        print('Can\\'t get frame')\n",
    "        break\n",
    " \n",
    "    cv2.imshow('frame', frame)\n",
    "    key = cv2.waitKey(3)\n",
    "    if key == 27:\n",
    "        print('Pressed Esc')\n",
    "        break"
   ]
  },
  {
   "cell_type": "code",
   "execution_count": 21,
   "metadata": {
    "collapsed": true
   },
   "outputs": [],
   "source": []
  },
  {
   "cell_type": "code",
   "execution_count": null,
   "metadata": {
    "collapsed": true
   },
   "outputs": [],
   "source": []
  }
 ],
 "metadata": {
  "kernelspec": {
   "display_name": "Python 3",
   "language": "python",
   "name": "python3"
  },
  "language_info": {
   "codemirror_mode": {
    "name": "ipython",
    "version": 3
   },
   "file_extension": ".py",
   "mimetype": "text/x-python",
   "name": "python",
   "nbconvert_exporter": "python",
   "pygments_lexer": "ipython3",
   "version": "3.6.1"
  }
 },
 "nbformat": 4,
 "nbformat_minor": 2
}
