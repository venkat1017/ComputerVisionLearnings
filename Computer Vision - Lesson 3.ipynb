{
 "cells": [
  {
   "cell_type": "code",
   "execution_count": 3,
   "metadata": {
    "collapsed": true
   },
   "outputs": [],
   "source": [
    "##Working with live video\n"
   ]
  },
  {
   "cell_type": "code",
   "execution_count": 2,
   "metadata": {},
   "outputs": [
    {
     "name": "stdout",
     "output_type": "stream",
     "text": [
      "Pressed Esc\n"
     ]
    }
   ],
   "source": [
    "import cv2\n",
    "\n",
    "capture = cv2.VideoCapture(0)\n",
    "while True:\n",
    "    has_frame, frame = capture.read()\n",
    "    if not has_frame:\n",
    "        print('Can\\'t get frame')\n",
    "        break\n",
    " \n",
    "    cv2.imshow('frame', frame)\n",
    "    key = cv2.waitKey(3)\n",
    "    if key == 27:\n",
    "        print('Pressed Esc')\n",
    "        break\n",
    "capture.release()\n",
    "cv2.destroyAllWindows()"
   ]
  },
  {
   "cell_type": "markdown",
   "metadata": {},
   "source": [
    "Working with cameras in OpenCV is done through the cv2.VideoCapture class. In fact it provides support when working with both cameras and video files. To instantiate an object representing a frame stream coming from a camera, you should just specify its number (zero-based device index). If OpenCV doesn't support your camera out of the box, you can try recompiling OpenCV, turning on optional support of other industrial camera types."
   ]
  },
  {
   "cell_type": "code",
   "execution_count": 5,
   "metadata": {},
   "outputs": [
    {
     "name": "stdout",
     "output_type": "stream",
     "text": [
      "Pressed Esc\n"
     ]
    }
   ],
   "source": [
    "import cv2\n",
    "\n",
    "capture = cv2.VideoCapture('C:\\\\Users\\\\venka\\\\Downloads\\\\drop.avi')\n",
    "while True:\n",
    "    has_frame, frame = capture.read()\n",
    "    if not has_frame:\n",
    "        print('Reached the end of the video')\n",
    "        break\n",
    "\n",
    "    cv2.imshow('frame', frame)\n",
    "    key = cv2.waitKey(50)\n",
    "    if key == 27:\n",
    "        print('Pressed Esc')\n",
    "        break\n",
    "\n",
    "cv2.destroyAllWindows()"
   ]
  },
  {
   "cell_type": "code",
   "execution_count": 6,
   "metadata": {},
   "outputs": [
    {
     "name": "stdout",
     "output_type": "stream",
     "text": [
      "Created capture: C:\\Users\\venka\\Downloads\\drop.avi\n",
      "Frame count: 182\n",
      "Frame width: 256\n",
      "Frame height: 240\n",
      "Frame rate: 30.0\n",
      "Created capture: 0\n",
      "Frame count: -1\n",
      "Frame width: 640\n",
      "Frame height: 480\n",
      "Frame rate: 0.0\n"
     ]
    }
   ],
   "source": [
    "import numpy\n",
    "import cv2\n",
    "\n",
    "def print_capture_properties(*args):\n",
    "    capture = cv2.VideoCapture(*args)\n",
    "    print('Created capture:', ' '.join(map(str, args)))\n",
    "    print('Frame count:', int(capture.get(cv2.CAP_PROP_FRAME_COUNT)))\n",
    "    print('Frame width:', int(capture.get(cv2.CAP_PROP_FRAME_WIDTH)))\n",
    "    print('Frame height:', int(capture.get(cv2.CAP_PROP_FRAME_HEIGHT)))\n",
    "    print('Frame rate:', capture.get(cv2.CAP_PROP_FPS))\n",
    "print_capture_properties('C:\\\\Users\\\\venka\\\\Downloads\\\\drop.avi')\n",
    "print_capture_properties(0)"
   ]
  },
  {
   "cell_type": "code",
   "execution_count": null,
   "metadata": {
    "collapsed": true
   },
   "outputs": [],
   "source": []
  }
 ],
 "metadata": {
  "kernelspec": {
   "display_name": "Python 3",
   "language": "python",
   "name": "python3"
  },
  "language_info": {
   "codemirror_mode": {
    "name": "ipython",
    "version": 3
   },
   "file_extension": ".py",
   "mimetype": "text/x-python",
   "name": "python",
   "nbconvert_exporter": "python",
   "pygments_lexer": "ipython3",
   "version": "3.6.1"
  }
 },
 "nbformat": 4,
 "nbformat_minor": 2
}
